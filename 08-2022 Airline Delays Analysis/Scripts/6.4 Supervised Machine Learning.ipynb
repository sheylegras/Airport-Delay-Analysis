{
 "cells": [
  {
   "cell_type": "markdown",
   "id": "7c31847d",
   "metadata": {},
   "source": [
    "# Table of Contents\n",
    "01. Importing Libraries and Data\n",
    "02. Data Cleaning\n",
    "03. Data Prep For Regression Analysis\n",
    "04. Regression Analysis"
   ]
  },
  {
   "cell_type": "markdown",
   "id": "79d71d27",
   "metadata": {},
   "source": [
    "## 1. Importing Libraries and Data"
   ]
  },
  {
   "cell_type": "code",
   "execution_count": 1,
   "id": "e3b05f56",
   "metadata": {},
   "outputs": [],
   "source": [
    "import pandas as pd\n",
    "import numpy as np\n",
    "import seaborn as sns\n",
    "import matplotlib\n",
    "import matplotlib.pyplot as plt\n",
    "import os\n",
    "import sklearn\n",
    "from sklearn.model_selection import train_test_split \n",
    "from sklearn.linear_model import LinearRegression\n",
    "from sklearn.metrics import mean_squared_error, r2_score"
   ]
  },
  {
   "cell_type": "code",
   "execution_count": 2,
   "id": "fce02f69",
   "metadata": {},
   "outputs": [],
   "source": [
    "%matplotlib inline"
   ]
  },
  {
   "cell_type": "code",
   "execution_count": 3,
   "id": "0e13ce67",
   "metadata": {},
   "outputs": [],
   "source": [
    "#define path\n",
    "path = r'C:\\Users\\legra\\Desktop\\08-2022 Airline Delays Analysis'"
   ]
  },
  {
   "cell_type": "code",
   "execution_count": 4,
   "id": "6245570d",
   "metadata": {},
   "outputs": [],
   "source": [
    "#import data\n",
    "df = pd.read_csv(os.path.join(path, 'Data', 'Prepared Data', 'airline_delay_wrangled2.csv'), index_col = False)"
   ]
  },
  {
   "cell_type": "markdown",
   "id": "22dd4311",
   "metadata": {},
   "source": [
    "## 2. Data Cleaning"
   ]
  },
  {
   "cell_type": "code",
   "execution_count": 5,
   "id": "c5ce10d2",
   "metadata": {},
   "outputs": [
    {
     "data": {
      "text/html": [
       "<div>\n",
       "<style scoped>\n",
       "    .dataframe tbody tr th:only-of-type {\n",
       "        vertical-align: middle;\n",
       "    }\n",
       "\n",
       "    .dataframe tbody tr th {\n",
       "        vertical-align: top;\n",
       "    }\n",
       "\n",
       "    .dataframe thead th {\n",
       "        text-align: right;\n",
       "    }\n",
       "</style>\n",
       "<table border=\"1\" class=\"dataframe\">\n",
       "  <thead>\n",
       "    <tr style=\"text-align: right;\">\n",
       "      <th></th>\n",
       "      <th>year</th>\n",
       "      <th>month</th>\n",
       "      <th>carrier</th>\n",
       "      <th>carrier_name</th>\n",
       "      <th>airport name</th>\n",
       "      <th>code</th>\n",
       "      <th>city</th>\n",
       "      <th>state</th>\n",
       "      <th>arriving_flight_count</th>\n",
       "      <th>arrival_delayed_15_minutes_more</th>\n",
       "      <th>...</th>\n",
       "      <th>security_delay_count</th>\n",
       "      <th>late_aircraft_count</th>\n",
       "      <th>arrival_cancelled_count</th>\n",
       "      <th>arrival_diverted_count</th>\n",
       "      <th>arrival_delay_minutes</th>\n",
       "      <th>carrier_delay_minutes</th>\n",
       "      <th>weather_delay_minutes</th>\n",
       "      <th>nas_delay_minutes</th>\n",
       "      <th>security_delay_minutes</th>\n",
       "      <th>late_aircraft_delay_minutes</th>\n",
       "    </tr>\n",
       "  </thead>\n",
       "  <tbody>\n",
       "    <tr>\n",
       "      <th>0</th>\n",
       "      <td>2021</td>\n",
       "      <td>12</td>\n",
       "      <td>9E</td>\n",
       "      <td>Endeavor Air Inc.</td>\n",
       "      <td>Lehigh Valley International</td>\n",
       "      <td>ABE</td>\n",
       "      <td>Allentown/Bethlehem/Easton</td>\n",
       "      <td>PA</td>\n",
       "      <td>127</td>\n",
       "      <td>9.0</td>\n",
       "      <td>...</td>\n",
       "      <td>0.0</td>\n",
       "      <td>2.95</td>\n",
       "      <td>0</td>\n",
       "      <td>0</td>\n",
       "      <td>264</td>\n",
       "      <td>119</td>\n",
       "      <td>0</td>\n",
       "      <td>68</td>\n",
       "      <td>0</td>\n",
       "      <td>77</td>\n",
       "    </tr>\n",
       "    <tr>\n",
       "      <th>1</th>\n",
       "      <td>2021</td>\n",
       "      <td>12</td>\n",
       "      <td>9E</td>\n",
       "      <td>Endeavor Air Inc.</td>\n",
       "      <td>Southwest Georgia Regional</td>\n",
       "      <td>ABY</td>\n",
       "      <td>Albany</td>\n",
       "      <td>GA</td>\n",
       "      <td>73</td>\n",
       "      <td>11.0</td>\n",
       "      <td>...</td>\n",
       "      <td>0.0</td>\n",
       "      <td>1.87</td>\n",
       "      <td>0</td>\n",
       "      <td>0</td>\n",
       "      <td>342</td>\n",
       "      <td>125</td>\n",
       "      <td>0</td>\n",
       "      <td>142</td>\n",
       "      <td>0</td>\n",
       "      <td>75</td>\n",
       "    </tr>\n",
       "    <tr>\n",
       "      <th>2</th>\n",
       "      <td>2021</td>\n",
       "      <td>12</td>\n",
       "      <td>9E</td>\n",
       "      <td>Endeavor Air Inc.</td>\n",
       "      <td>Alexandria International</td>\n",
       "      <td>AEX</td>\n",
       "      <td>Alexandria</td>\n",
       "      <td>LA</td>\n",
       "      <td>62</td>\n",
       "      <td>8.0</td>\n",
       "      <td>...</td>\n",
       "      <td>0.0</td>\n",
       "      <td>1.15</td>\n",
       "      <td>0</td>\n",
       "      <td>0</td>\n",
       "      <td>439</td>\n",
       "      <td>156</td>\n",
       "      <td>0</td>\n",
       "      <td>103</td>\n",
       "      <td>0</td>\n",
       "      <td>180</td>\n",
       "    </tr>\n",
       "    <tr>\n",
       "      <th>3</th>\n",
       "      <td>2021</td>\n",
       "      <td>12</td>\n",
       "      <td>9E</td>\n",
       "      <td>Endeavor Air Inc.</td>\n",
       "      <td>Augusta Regional at Bush Field</td>\n",
       "      <td>AGS</td>\n",
       "      <td>Augusta</td>\n",
       "      <td>GA</td>\n",
       "      <td>166</td>\n",
       "      <td>18.0</td>\n",
       "      <td>...</td>\n",
       "      <td>0.0</td>\n",
       "      <td>2.74</td>\n",
       "      <td>0</td>\n",
       "      <td>1</td>\n",
       "      <td>1266</td>\n",
       "      <td>291</td>\n",
       "      <td>693</td>\n",
       "      <td>167</td>\n",
       "      <td>0</td>\n",
       "      <td>115</td>\n",
       "    </tr>\n",
       "    <tr>\n",
       "      <th>4</th>\n",
       "      <td>2021</td>\n",
       "      <td>12</td>\n",
       "      <td>9E</td>\n",
       "      <td>Endeavor Air Inc.</td>\n",
       "      <td>Albany International</td>\n",
       "      <td>ALB</td>\n",
       "      <td>Albany</td>\n",
       "      <td>NY</td>\n",
       "      <td>52</td>\n",
       "      <td>6.0</td>\n",
       "      <td>...</td>\n",
       "      <td>0.0</td>\n",
       "      <td>0.82</td>\n",
       "      <td>0</td>\n",
       "      <td>0</td>\n",
       "      <td>497</td>\n",
       "      <td>278</td>\n",
       "      <td>180</td>\n",
       "      <td>21</td>\n",
       "      <td>0</td>\n",
       "      <td>18</td>\n",
       "    </tr>\n",
       "  </tbody>\n",
       "</table>\n",
       "<p>5 rows × 23 columns</p>\n",
       "</div>"
      ],
      "text/plain": [
       "   year  month carrier       carrier_name                     airport name  \\\n",
       "0  2021     12      9E  Endeavor Air Inc.      Lehigh Valley International   \n",
       "1  2021     12      9E  Endeavor Air Inc.       Southwest Georgia Regional   \n",
       "2  2021     12      9E  Endeavor Air Inc.         Alexandria International   \n",
       "3  2021     12      9E  Endeavor Air Inc.   Augusta Regional at Bush Field   \n",
       "4  2021     12      9E  Endeavor Air Inc.             Albany International   \n",
       "\n",
       "  code                        city state  arriving_flight_count  \\\n",
       "0  ABE  Allentown/Bethlehem/Easton    PA                    127   \n",
       "1  ABY                      Albany    GA                     73   \n",
       "2  AEX                  Alexandria    LA                     62   \n",
       "3  AGS                     Augusta    GA                    166   \n",
       "4  ALB                      Albany    NY                     52   \n",
       "\n",
       "   arrival_delayed_15_minutes_more  ...  security_delay_count  \\\n",
       "0                              9.0  ...                   0.0   \n",
       "1                             11.0  ...                   0.0   \n",
       "2                              8.0  ...                   0.0   \n",
       "3                             18.0  ...                   0.0   \n",
       "4                              6.0  ...                   0.0   \n",
       "\n",
       "   late_aircraft_count  arrival_cancelled_count  arrival_diverted_count  \\\n",
       "0                 2.95                        0                       0   \n",
       "1                 1.87                        0                       0   \n",
       "2                 1.15                        0                       0   \n",
       "3                 2.74                        0                       1   \n",
       "4                 0.82                        0                       0   \n",
       "\n",
       "   arrival_delay_minutes  carrier_delay_minutes  weather_delay_minutes  \\\n",
       "0                    264                    119                      0   \n",
       "1                    342                    125                      0   \n",
       "2                    439                    156                      0   \n",
       "3                   1266                    291                    693   \n",
       "4                    497                    278                    180   \n",
       "\n",
       "   nas_delay_minutes  security_delay_minutes  late_aircraft_delay_minutes  \n",
       "0                 68                       0                           77  \n",
       "1                142                       0                           75  \n",
       "2                103                       0                          180  \n",
       "3                167                       0                          115  \n",
       "4                 21                       0                           18  \n",
       "\n",
       "[5 rows x 23 columns]"
      ]
     },
     "execution_count": 5,
     "metadata": {},
     "output_type": "execute_result"
    }
   ],
   "source": [
    "df.head()"
   ]
  },
  {
   "cell_type": "code",
   "execution_count": 6,
   "id": "d0b085de",
   "metadata": {},
   "outputs": [
    {
     "data": {
      "text/plain": [
       "year                                 0\n",
       "month                                0\n",
       "carrier                              0\n",
       "carrier_name                         0\n",
       "airport name                         0\n",
       "code                                 0\n",
       "city                                 0\n",
       "state                                0\n",
       "arriving_flight_count                0\n",
       "arrival_delayed_15_minutes_more    173\n",
       "carrier_delay_count                  0\n",
       "weather_delay_count                  0\n",
       "nas_delay_count                      0\n",
       "security_delay_count                 0\n",
       "late_aircraft_count                  0\n",
       "arrival_cancelled_count              0\n",
       "arrival_diverted_count               0\n",
       "arrival_delay_minutes                0\n",
       "carrier_delay_minutes                0\n",
       "weather_delay_minutes                0\n",
       "nas_delay_minutes                    0\n",
       "security_delay_minutes               0\n",
       "late_aircraft_delay_minutes          0\n",
       "dtype: int64"
      ]
     },
     "execution_count": 6,
     "metadata": {},
     "output_type": "execute_result"
    }
   ],
   "source": [
    "# Check for missing values\n",
    "\n",
    "df.isnull().sum()"
   ]
  },
  {
   "cell_type": "markdown",
   "id": "98cb4c28",
   "metadata": {},
   "source": [
    "Values indicates flight that did not have a delay of 15 minutes or more"
   ]
  },
  {
   "cell_type": "code",
   "execution_count": 7,
   "id": "550b0cf4",
   "metadata": {},
   "outputs": [],
   "source": [
    "#check for duplicates\n",
    "dups = df.duplicated()"
   ]
  },
  {
   "cell_type": "code",
   "execution_count": 8,
   "id": "d5de1588",
   "metadata": {},
   "outputs": [
    {
     "data": {
      "text/plain": [
       "(38701,)"
      ]
     },
     "execution_count": 8,
     "metadata": {},
     "output_type": "execute_result"
    }
   ],
   "source": [
    "dups.shape "
   ]
  },
  {
   "cell_type": "markdown",
   "id": "0a7c7c1e",
   "metadata": {},
   "source": [
    "No duplicates"
   ]
  },
  {
   "cell_type": "code",
   "execution_count": 19,
   "id": "9d4eae9a",
   "metadata": {},
   "outputs": [],
   "source": [
    "#select only entries with a non-zero arrival delayed 15 min more\n",
    "df =df[df['arrival_delayed_15_minutes_more'] >= 1]"
   ]
  },
  {
   "cell_type": "markdown",
   "id": "26ab1ace",
   "metadata": {},
   "source": [
    "## 3. Data prep for Regression Analsis"
   ]
  },
  {
   "cell_type": "code",
   "execution_count": 20,
   "id": "dbc9c5a2",
   "metadata": {
    "scrolled": true
   },
   "outputs": [
    {
     "data": {
      "image/png": "[encoded data removed]",
      "text/plain": [
       "<Figure size 432x288 with 1 Axes>"
      ]
     },
     "metadata": {
      "needs_background": "light"
     },
     "output_type": "display_data"
    }
   ],
   "source": [
    "# Create a scatterplot using matplotlib for another look at how the chosen variables plot against each other.\n",
    "\n",
    "df.plot(x = 'arriving_flight_count', y='arrival_delayed_15_minutes_more',style='o') \n",
    "plt.title('Arriving Flight Count vs Arrivals Delayed 15 Minutes or More Count')  \n",
    "plt.xlabel('Arriving Flights')  \n",
    "plt.ylabel('Arrivals Delayed 15 Minutes or More')  \n",
    "plt.show()"
   ]
  },
  {
   "cell_type": "markdown",
   "id": "5c4108cb",
   "metadata": {},
   "source": [
    "Hypothesis: The more arriving flights an airport has, the higher the amount of arrivals delayed 15 minutes or more that airport will experience."
   ]
  },
  {
   "cell_type": "code",
   "execution_count": 21,
   "id": "47a24161",
   "metadata": {},
   "outputs": [],
   "source": [
    "# Reshape the variables into NumPy arrays and put them into separate objects.\n",
    "\n",
    "X = df['arriving_flight_count'].values.reshape(-1,1)\n",
    "y = df['arrival_delayed_15_minutes_more'].values.reshape(-1,1)"
   ]
  },
  {
   "cell_type": "code",
   "execution_count": 22,
   "id": "82754bcb",
   "metadata": {},
   "outputs": [
    {
     "data": {
      "text/plain": [
       "array([[127],\n",
       "       [ 73],\n",
       "       [ 62],\n",
       "       ...,\n",
       "       [112],\n",
       "       [  8],\n",
       "       [246]], dtype=int64)"
      ]
     },
     "execution_count": 22,
     "metadata": {},
     "output_type": "execute_result"
    }
   ],
   "source": [
    "X"
   ]
  },
  {
   "cell_type": "code",
   "execution_count": 23,
   "id": "51f7d89b",
   "metadata": {},
   "outputs": [
    {
     "data": {
      "text/plain": [
       "array([[ 9.],\n",
       "       [11.],\n",
       "       [ 8.],\n",
       "       ...,\n",
       "       [10.],\n",
       "       [ 1.],\n",
       "       [28.]])"
      ]
     },
     "execution_count": 23,
     "metadata": {},
     "output_type": "execute_result"
    }
   ],
   "source": [
    "y"
   ]
  },
  {
   "cell_type": "code",
   "execution_count": 24,
   "id": "47821c20",
   "metadata": {},
   "outputs": [],
   "source": [
    "# Split data into a training set and a test set.\n",
    "\n",
    "X_train, X_test, y_train, y_test = train_test_split(X, y, test_size=0.3, random_state=0)"
   ]
  },
  {
   "cell_type": "markdown",
   "id": "1dc7251d",
   "metadata": {},
   "source": [
    "## 4. Regression Analysis"
   ]
  },
  {
   "cell_type": "code",
   "execution_count": 25,
   "id": "8ea271e1",
   "metadata": {},
   "outputs": [],
   "source": [
    "# Create a regression object.\n",
    "\n",
    "regression = LinearRegression()"
   ]
  },
  {
   "cell_type": "code",
   "execution_count": 26,
   "id": "937c742f",
   "metadata": {},
   "outputs": [
    {
     "data": {
      "text/plain": [
       "LinearRegression()"
      ]
     },
     "execution_count": 26,
     "metadata": {},
     "output_type": "execute_result"
    }
   ],
   "source": [
    "# Fit the regression object onto the training set.\n",
    "\n",
    "regression.fit(X_train, y_train)"
   ]
  },
  {
   "cell_type": "code",
   "execution_count": 27,
   "id": "3b13efc6",
   "metadata": {},
   "outputs": [],
   "source": [
    "# Predict the values of y using X.\n",
    "\n",
    "y_predicted = regression.predict(X_test)"
   ]
  },
  {
   "cell_type": "code",
   "execution_count": 28,
   "id": "22d34d06",
   "metadata": {
    "scrolled": true
   },
   "outputs": [
    {
     "data": {
      "image/png": "[encoded data removed]",
      "text/plain": [
       "<Figure size 432x288 with 1 Axes>"
      ]
     },
     "metadata": {
      "needs_background": "light"
     },
     "output_type": "display_data"
    }
   ],
   "source": [
    "# Create a plot that shows the regression line from the model on the test set.\n",
    "\n",
    "plot_test = plt\n",
    "plot_test.scatter(X_test, y_test, color='gray', s = 15)\n",
    "plot_test.plot(X_test, y_predicted, color='red', linewidth =3)\n",
    "plot_test.title('Arriving Flight Count vs Arrivals Delayed 15 Minutes or More Count (Test set)')\n",
    "plot_test.xlabel('Arriving Flights')\n",
    "plot_test.ylabel('Arrivals Delayed 15 Minutes or More')\n",
    "plot_test.show()"
   ]
  },
  {
   "cell_type": "markdown",
   "id": "8ddbcb23",
   "metadata": {},
   "source": [
    "The line only partially fits the data. When arriving flights are under 5000 they more closely fit the line but as the number of flights increase pat ths "
   ]
  },
  {
   "cell_type": "code",
   "execution_count": 29,
   "id": "843eae21",
   "metadata": {},
   "outputs": [],
   "source": [
    "# Create objects that contain the model summary statistics.\n",
    "\n",
    "rmse = mean_squared_error(y_test, y_predicted) \n",
    "r2 = r2_score(y_test, y_predicted) "
   ]
  },
  {
   "cell_type": "code",
   "execution_count": 30,
   "id": "5147be3b",
   "metadata": {},
   "outputs": [
    {
     "name": "stdout",
     "output_type": "stream",
     "text": [
      "Slope: [[0.12965106]]\n",
      "Mean squared error:  4239.873816877993\n",
      "R2 score:  0.7231377107478174\n"
     ]
    }
   ],
   "source": [
    "# Print the model summary statistics. \n",
    "\n",
    "print('Slope:' ,regression.coef_)\n",
    "print('Mean squared error: ', rmse)\n",
    "print('R2 score: ', r2)"
   ]
  },
  {
   "cell_type": "code",
   "execution_count": 32,
   "id": "06836bbb",
   "metadata": {},
   "outputs": [
    {
     "data": {
      "text/html": [
       "<div>\n",
       "<style scoped>\n",
       "    .dataframe tbody tr th:only-of-type {\n",
       "        vertical-align: middle;\n",
       "    }\n",
       "\n",
       "    .dataframe tbody tr th {\n",
       "        vertical-align: top;\n",
       "    }\n",
       "\n",
       "    .dataframe thead th {\n",
       "        text-align: right;\n",
       "    }\n",
       "</style>\n",
       "<table border=\"1\" class=\"dataframe\">\n",
       "  <thead>\n",
       "    <tr style=\"text-align: right;\">\n",
       "      <th></th>\n",
       "      <th>Actual</th>\n",
       "      <th>Predicted</th>\n",
       "    </tr>\n",
       "  </thead>\n",
       "  <tbody>\n",
       "    <tr>\n",
       "      <th>0</th>\n",
       "      <td>6.0</td>\n",
       "      <td>12.213112</td>\n",
       "    </tr>\n",
       "    <tr>\n",
       "      <th>1</th>\n",
       "      <td>32.0</td>\n",
       "      <td>29.845656</td>\n",
       "    </tr>\n",
       "    <tr>\n",
       "      <th>2</th>\n",
       "      <td>5.0</td>\n",
       "      <td>16.102644</td>\n",
       "    </tr>\n",
       "    <tr>\n",
       "      <th>3</th>\n",
       "      <td>7.0</td>\n",
       "      <td>5.860210</td>\n",
       "    </tr>\n",
       "    <tr>\n",
       "      <th>4</th>\n",
       "      <td>3.0</td>\n",
       "      <td>10.009044</td>\n",
       "    </tr>\n",
       "    <tr>\n",
       "      <th>5</th>\n",
       "      <td>9.0</td>\n",
       "      <td>9.231138</td>\n",
       "    </tr>\n",
       "    <tr>\n",
       "      <th>6</th>\n",
       "      <td>35.0</td>\n",
       "      <td>19.214269</td>\n",
       "    </tr>\n",
       "    <tr>\n",
       "      <th>7</th>\n",
       "      <td>62.0</td>\n",
       "      <td>155.996135</td>\n",
       "    </tr>\n",
       "    <tr>\n",
       "      <th>8</th>\n",
       "      <td>26.0</td>\n",
       "      <td>21.807290</td>\n",
       "    </tr>\n",
       "    <tr>\n",
       "      <th>9</th>\n",
       "      <td>11.0</td>\n",
       "      <td>8.971836</td>\n",
       "    </tr>\n",
       "    <tr>\n",
       "      <th>10</th>\n",
       "      <td>12.0</td>\n",
       "      <td>10.009044</td>\n",
       "    </tr>\n",
       "    <tr>\n",
       "      <th>11</th>\n",
       "      <td>13.0</td>\n",
       "      <td>9.360789</td>\n",
       "    </tr>\n",
       "    <tr>\n",
       "      <th>12</th>\n",
       "      <td>6.0</td>\n",
       "      <td>11.046253</td>\n",
       "    </tr>\n",
       "    <tr>\n",
       "      <th>13</th>\n",
       "      <td>19.0</td>\n",
       "      <td>30.753213</td>\n",
       "    </tr>\n",
       "    <tr>\n",
       "      <th>14</th>\n",
       "      <td>5.0</td>\n",
       "      <td>8.971836</td>\n",
       "    </tr>\n",
       "    <tr>\n",
       "      <th>15</th>\n",
       "      <td>5.0</td>\n",
       "      <td>11.953810</td>\n",
       "    </tr>\n",
       "    <tr>\n",
       "      <th>16</th>\n",
       "      <td>36.0</td>\n",
       "      <td>25.048567</td>\n",
       "    </tr>\n",
       "    <tr>\n",
       "      <th>17</th>\n",
       "      <td>4.0</td>\n",
       "      <td>5.860210</td>\n",
       "    </tr>\n",
       "    <tr>\n",
       "      <th>18</th>\n",
       "      <td>2.0</td>\n",
       "      <td>4.045095</td>\n",
       "    </tr>\n",
       "    <tr>\n",
       "      <th>19</th>\n",
       "      <td>48.0</td>\n",
       "      <td>22.066592</td>\n",
       "    </tr>\n",
       "    <tr>\n",
       "      <th>20</th>\n",
       "      <td>6.0</td>\n",
       "      <td>9.360789</td>\n",
       "    </tr>\n",
       "    <tr>\n",
       "      <th>21</th>\n",
       "      <td>11.0</td>\n",
       "      <td>9.231138</td>\n",
       "    </tr>\n",
       "    <tr>\n",
       "      <th>22</th>\n",
       "      <td>1.0</td>\n",
       "      <td>8.193929</td>\n",
       "    </tr>\n",
       "    <tr>\n",
       "      <th>23</th>\n",
       "      <td>6.0</td>\n",
       "      <td>7.416023</td>\n",
       "    </tr>\n",
       "    <tr>\n",
       "      <th>24</th>\n",
       "      <td>1.0</td>\n",
       "      <td>11.824159</td>\n",
       "    </tr>\n",
       "    <tr>\n",
       "      <th>25</th>\n",
       "      <td>1.0</td>\n",
       "      <td>5.211955</td>\n",
       "    </tr>\n",
       "    <tr>\n",
       "      <th>26</th>\n",
       "      <td>4.0</td>\n",
       "      <td>11.953810</td>\n",
       "    </tr>\n",
       "    <tr>\n",
       "      <th>27</th>\n",
       "      <td>1.0</td>\n",
       "      <td>6.767768</td>\n",
       "    </tr>\n",
       "    <tr>\n",
       "      <th>28</th>\n",
       "      <td>10.0</td>\n",
       "      <td>5.341606</td>\n",
       "    </tr>\n",
       "    <tr>\n",
       "      <th>29</th>\n",
       "      <td>105.0</td>\n",
       "      <td>77.427594</td>\n",
       "    </tr>\n",
       "  </tbody>\n",
       "</table>\n",
       "</div>"
      ],
      "text/plain": [
       "    Actual   Predicted\n",
       "0      6.0   12.213112\n",
       "1     32.0   29.845656\n",
       "2      5.0   16.102644\n",
       "3      7.0    5.860210\n",
       "4      3.0   10.009044\n",
       "5      9.0    9.231138\n",
       "6     35.0   19.214269\n",
       "7     62.0  155.996135\n",
       "8     26.0   21.807290\n",
       "9     11.0    8.971836\n",
       "10    12.0   10.009044\n",
       "11    13.0    9.360789\n",
       "12     6.0   11.046253\n",
       "13    19.0   30.753213\n",
       "14     5.0    8.971836\n",
       "15     5.0   11.953810\n",
       "16    36.0   25.048567\n",
       "17     4.0    5.860210\n",
       "18     2.0    4.045095\n",
       "19    48.0   22.066592\n",
       "20     6.0    9.360789\n",
       "21    11.0    9.231138\n",
       "22     1.0    8.193929\n",
       "23     6.0    7.416023\n",
       "24     1.0   11.824159\n",
       "25     1.0    5.211955\n",
       "26     4.0   11.953810\n",
       "27     1.0    6.767768\n",
       "28    10.0    5.341606\n",
       "29   105.0   77.427594"
      ]
     },
     "execution_count": 32,
     "metadata": {},
     "output_type": "execute_result"
    }
   ],
   "source": [
    "data = pd.DataFrame({'Actual': y_test.flatten(), 'Predicted': y_predicted.flatten()})\n",
    "data.head(30)"
   ]
  },
  {
   "cell_type": "markdown",
   "id": "74e419ea",
   "metadata": {},
   "source": [
    "Based on the actual vs predicted values the model did not perform well on the test set. The MSE is very large meaning the the regression line is pretty far away from the data points even though the R2 is close to one which would usually indicate a good fit."
   ]
  },
  {
   "cell_type": "code",
   "execution_count": null,
   "id": "6ff8b76f",
   "metadata": {},
   "outputs": [],
   "source": []
  }
 ],
 "metadata": {
  "kernelspec": {
   "display_name": "Python 3 (ipykernel)",
   "language": "python",
   "name": "python3"
  },
  "language_info": {
   "codemirror_mode": {
    "name": "ipython",
    "version": 3
   },
   "file_extension": ".py",
   "mimetype": "text/x-python",
   "name": "python",
   "nbconvert_exporter": "python",
   "pygments_lexer": "ipython3",
   "version": "3.9.12"
  }
 },
 "nbformat": 4,
 "nbformat_minor": 5
}
