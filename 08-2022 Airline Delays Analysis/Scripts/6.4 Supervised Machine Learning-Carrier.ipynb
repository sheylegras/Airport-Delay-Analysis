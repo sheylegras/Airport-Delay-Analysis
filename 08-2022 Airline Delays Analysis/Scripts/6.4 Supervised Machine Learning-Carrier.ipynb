{
 "cells": [
  {
   "cell_type": "markdown",
   "id": "7c31847d",
   "metadata": {},
   "source": [
    "# Table of Contents\n",
    "01. Importing Libraries and Data\n",
    "02. Data Cleaning\n",
    "03. Data Prep For Regression Analysis\n",
    "04. Regression Analysis"
   ]
  },
  {
   "cell_type": "markdown",
   "id": "ac682120",
   "metadata": {},
   "source": [
    "After running the regression model on the full dataset, I decided to look closer at the relationships between carrier delay count and arrival delay minutes as in 6.2 the correlation heatmap showed a strong positive correlation."
   ]
  },
  {
   "cell_type": "markdown",
   "id": "79d71d27",
   "metadata": {},
   "source": [
    "## 1. Importing Libraries and Data"
   ]
  },
  {
   "cell_type": "code",
   "execution_count": 11,
   "id": "e3b05f56",
   "metadata": {},
   "outputs": [],
   "source": [
    "import pandas as pd\n",
    "import numpy as np\n",
    "import seaborn as sns\n",
    "import matplotlib\n",
    "import matplotlib.pyplot as plt\n",
    "import os\n",
    "import sklearn\n",
    "from sklearn.model_selection import train_test_split \n",
    "from sklearn.linear_model import LinearRegression\n",
    "from sklearn.metrics import mean_squared_error, r2_score"
   ]
  },
  {
   "cell_type": "code",
   "execution_count": 2,
   "id": "fce02f69",
   "metadata": {},
   "outputs": [],
   "source": [
    "%matplotlib inline"
   ]
  },
  {
   "cell_type": "code",
   "execution_count": 3,
   "id": "0e13ce67",
   "metadata": {},
   "outputs": [],
   "source": [
    "#define path\n",
    "path = r'C:\\Users\\legra\\Desktop\\08-2022 Airline Delays Analysis'"
   ]
  },
  {
   "cell_type": "code",
   "execution_count": 8,
   "id": "6245570d",
   "metadata": {},
   "outputs": [],
   "source": [
    "#import data\n",
    "df = pd.read_csv(os.path.join(path, 'Data', 'Prepared Data', 'wrangled_v3.csv'))"
   ]
  },
  {
   "cell_type": "code",
   "execution_count": 9,
   "id": "6a2b7b60",
   "metadata": {},
   "outputs": [
    {
     "data": {
      "text/html": [
       "<div>\n",
       "<style scoped>\n",
       "    .dataframe tbody tr th:only-of-type {\n",
       "        vertical-align: middle;\n",
       "    }\n",
       "\n",
       "    .dataframe tbody tr th {\n",
       "        vertical-align: top;\n",
       "    }\n",
       "\n",
       "    .dataframe thead th {\n",
       "        text-align: right;\n",
       "    }\n",
       "</style>\n",
       "<table border=\"1\" class=\"dataframe\">\n",
       "  <thead>\n",
       "    <tr style=\"text-align: right;\">\n",
       "      <th></th>\n",
       "      <th>Unnamed: 0</th>\n",
       "      <th>year</th>\n",
       "      <th>month</th>\n",
       "      <th>carrier</th>\n",
       "      <th>carrier_name</th>\n",
       "      <th>airport name</th>\n",
       "      <th>code</th>\n",
       "      <th>city</th>\n",
       "      <th>state_code</th>\n",
       "      <th>arriving_flight_count</th>\n",
       "      <th>...</th>\n",
       "      <th>late_aircraft_count</th>\n",
       "      <th>arrival_cancelled_count</th>\n",
       "      <th>arrival_diverted_count</th>\n",
       "      <th>arrival_delay_minutes</th>\n",
       "      <th>carrier_delay_minutes</th>\n",
       "      <th>weather_delay_minutes</th>\n",
       "      <th>nas_delay_minutes</th>\n",
       "      <th>security_delay_minutes</th>\n",
       "      <th>late_aircraft_delay_minutes</th>\n",
       "      <th>state</th>\n",
       "    </tr>\n",
       "  </thead>\n",
       "  <tbody>\n",
       "    <tr>\n",
       "      <th>0</th>\n",
       "      <td>0</td>\n",
       "      <td>2021</td>\n",
       "      <td>12</td>\n",
       "      <td>9E</td>\n",
       "      <td>Endeavor Air Inc.</td>\n",
       "      <td>Lehigh Valley International</td>\n",
       "      <td>ABE</td>\n",
       "      <td>Allentown/Bethlehem/Easton</td>\n",
       "      <td>PA</td>\n",
       "      <td>127</td>\n",
       "      <td>...</td>\n",
       "      <td>2.95</td>\n",
       "      <td>0</td>\n",
       "      <td>0</td>\n",
       "      <td>264</td>\n",
       "      <td>119</td>\n",
       "      <td>0</td>\n",
       "      <td>68</td>\n",
       "      <td>0</td>\n",
       "      <td>77</td>\n",
       "      <td>Pennsylvania</td>\n",
       "    </tr>\n",
       "    <tr>\n",
       "      <th>1</th>\n",
       "      <td>1</td>\n",
       "      <td>2021</td>\n",
       "      <td>12</td>\n",
       "      <td>9E</td>\n",
       "      <td>Endeavor Air Inc.</td>\n",
       "      <td>Southwest Georgia Regional</td>\n",
       "      <td>ABY</td>\n",
       "      <td>Albany</td>\n",
       "      <td>GA</td>\n",
       "      <td>73</td>\n",
       "      <td>...</td>\n",
       "      <td>1.87</td>\n",
       "      <td>0</td>\n",
       "      <td>0</td>\n",
       "      <td>342</td>\n",
       "      <td>125</td>\n",
       "      <td>0</td>\n",
       "      <td>142</td>\n",
       "      <td>0</td>\n",
       "      <td>75</td>\n",
       "      <td>Georgia</td>\n",
       "    </tr>\n",
       "    <tr>\n",
       "      <th>2</th>\n",
       "      <td>2</td>\n",
       "      <td>2021</td>\n",
       "      <td>12</td>\n",
       "      <td>9E</td>\n",
       "      <td>Endeavor Air Inc.</td>\n",
       "      <td>Alexandria International</td>\n",
       "      <td>AEX</td>\n",
       "      <td>Alexandria</td>\n",
       "      <td>LA</td>\n",
       "      <td>62</td>\n",
       "      <td>...</td>\n",
       "      <td>1.15</td>\n",
       "      <td>0</td>\n",
       "      <td>0</td>\n",
       "      <td>439</td>\n",
       "      <td>156</td>\n",
       "      <td>0</td>\n",
       "      <td>103</td>\n",
       "      <td>0</td>\n",
       "      <td>180</td>\n",
       "      <td>Louisiana</td>\n",
       "    </tr>\n",
       "    <tr>\n",
       "      <th>3</th>\n",
       "      <td>3</td>\n",
       "      <td>2021</td>\n",
       "      <td>12</td>\n",
       "      <td>9E</td>\n",
       "      <td>Endeavor Air Inc.</td>\n",
       "      <td>Augusta Regional at Bush Field</td>\n",
       "      <td>AGS</td>\n",
       "      <td>Augusta</td>\n",
       "      <td>GA</td>\n",
       "      <td>166</td>\n",
       "      <td>...</td>\n",
       "      <td>2.74</td>\n",
       "      <td>0</td>\n",
       "      <td>1</td>\n",
       "      <td>1266</td>\n",
       "      <td>291</td>\n",
       "      <td>693</td>\n",
       "      <td>167</td>\n",
       "      <td>0</td>\n",
       "      <td>115</td>\n",
       "      <td>Georgia</td>\n",
       "    </tr>\n",
       "    <tr>\n",
       "      <th>4</th>\n",
       "      <td>4</td>\n",
       "      <td>2021</td>\n",
       "      <td>12</td>\n",
       "      <td>9E</td>\n",
       "      <td>Endeavor Air Inc.</td>\n",
       "      <td>Albany International</td>\n",
       "      <td>ALB</td>\n",
       "      <td>Albany</td>\n",
       "      <td>NY</td>\n",
       "      <td>52</td>\n",
       "      <td>...</td>\n",
       "      <td>0.82</td>\n",
       "      <td>0</td>\n",
       "      <td>0</td>\n",
       "      <td>497</td>\n",
       "      <td>278</td>\n",
       "      <td>180</td>\n",
       "      <td>21</td>\n",
       "      <td>0</td>\n",
       "      <td>18</td>\n",
       "      <td>New York</td>\n",
       "    </tr>\n",
       "  </tbody>\n",
       "</table>\n",
       "<p>5 rows × 25 columns</p>\n",
       "</div>"
      ],
      "text/plain": [
       "   Unnamed: 0  year  month carrier       carrier_name  \\\n",
       "0           0  2021     12      9E  Endeavor Air Inc.   \n",
       "1           1  2021     12      9E  Endeavor Air Inc.   \n",
       "2           2  2021     12      9E  Endeavor Air Inc.   \n",
       "3           3  2021     12      9E  Endeavor Air Inc.   \n",
       "4           4  2021     12      9E  Endeavor Air Inc.   \n",
       "\n",
       "                      airport name code                        city  \\\n",
       "0      Lehigh Valley International  ABE  Allentown/Bethlehem/Easton   \n",
       "1       Southwest Georgia Regional  ABY                      Albany   \n",
       "2         Alexandria International  AEX                  Alexandria   \n",
       "3   Augusta Regional at Bush Field  AGS                     Augusta   \n",
       "4             Albany International  ALB                      Albany   \n",
       "\n",
       "  state_code  arriving_flight_count  ...  late_aircraft_count  \\\n",
       "0         PA                    127  ...                 2.95   \n",
       "1         GA                     73  ...                 1.87   \n",
       "2         LA                     62  ...                 1.15   \n",
       "3         GA                    166  ...                 2.74   \n",
       "4         NY                     52  ...                 0.82   \n",
       "\n",
       "   arrival_cancelled_count  arrival_diverted_count  arrival_delay_minutes  \\\n",
       "0                        0                       0                    264   \n",
       "1                        0                       0                    342   \n",
       "2                        0                       0                    439   \n",
       "3                        0                       1                   1266   \n",
       "4                        0                       0                    497   \n",
       "\n",
       "   carrier_delay_minutes  weather_delay_minutes  nas_delay_minutes  \\\n",
       "0                    119                      0                 68   \n",
       "1                    125                      0                142   \n",
       "2                    156                      0                103   \n",
       "3                    291                    693                167   \n",
       "4                    278                    180                 21   \n",
       "\n",
       "   security_delay_minutes  late_aircraft_delay_minutes         state  \n",
       "0                       0                           77  Pennsylvania  \n",
       "1                       0                           75       Georgia  \n",
       "2                       0                          180     Louisiana  \n",
       "3                       0                          115       Georgia  \n",
       "4                       0                           18      New York  \n",
       "\n",
       "[5 rows x 25 columns]"
      ]
     },
     "execution_count": 9,
     "metadata": {},
     "output_type": "execute_result"
    }
   ],
   "source": [
    "df.head()"
   ]
  },
  {
   "cell_type": "markdown",
   "id": "22dd4311",
   "metadata": {},
   "source": [
    "## 2. Data Cleaning"
   ]
  },
  {
   "cell_type": "code",
   "execution_count": 6,
   "id": "d0b085de",
   "metadata": {},
   "outputs": [
    {
     "data": {
      "text/plain": [
       "year                                 0\n",
       "month                                0\n",
       "carrier                              0\n",
       "carrier_name                         0\n",
       "airport name                         0\n",
       "code                                 0\n",
       "city                                 0\n",
       "state                                0\n",
       "arriving_flight_count                0\n",
       "arrival_delayed_15_minutes_more    173\n",
       "carrier_delay_count                  0\n",
       "weather_delay_count                  0\n",
       "nas_delay_count                      0\n",
       "security_delay_count                 0\n",
       "late_aircraft_count                  0\n",
       "arrival_cancelled_count              0\n",
       "arrival_diverted_count               0\n",
       "arrival_delay_minutes                0\n",
       "carrier_delay_minutes                0\n",
       "weather_delay_minutes                0\n",
       "nas_delay_minutes                    0\n",
       "security_delay_minutes               0\n",
       "late_aircraft_delay_minutes          0\n",
       "dtype: int64"
      ]
     },
     "execution_count": 6,
     "metadata": {},
     "output_type": "execute_result"
    }
   ],
   "source": [
    "# Check for missing values\n",
    "\n",
    "df.isnull().sum()"
   ]
  },
  {
   "cell_type": "markdown",
   "id": "98cb4c28",
   "metadata": {},
   "source": [
    "Values indicaes flight that did not have a delay of 15 minutes or more"
   ]
  },
  {
   "cell_type": "code",
   "execution_count": 7,
   "id": "550b0cf4",
   "metadata": {},
   "outputs": [],
   "source": [
    "dups = df.duplicated()"
   ]
  },
  {
   "cell_type": "code",
   "execution_count": 8,
   "id": "d5de1588",
   "metadata": {},
   "outputs": [
    {
     "data": {
      "text/plain": [
       "(38701,)"
      ]
     },
     "execution_count": 8,
     "metadata": {},
     "output_type": "execute_result"
    }
   ],
   "source": [
    "dups.shape "
   ]
  },
  {
   "cell_type": "markdown",
   "id": "0a7c7c1e",
   "metadata": {},
   "source": [
    "No duplicates"
   ]
  },
  {
   "cell_type": "code",
   "execution_count": 19,
   "id": "9d4eae9a",
   "metadata": {},
   "outputs": [],
   "source": [
    "#select only entries with a non-zero arrival delayed 15 min more\n",
    "df =df[df['arrival_delayed_15_minutes_more'] >= 1]"
   ]
  },
  {
   "cell_type": "markdown",
   "id": "26ab1ace",
   "metadata": {},
   "source": [
    "## 3. Data prep for Regression Analsis"
   ]
  },
  {
   "cell_type": "code",
   "execution_count": 37,
   "id": "dbc9c5a2",
   "metadata": {
    "scrolled": true
   },
   "outputs": [
    {
     "data": {
      "image/png": "[encoded data removed]",
      "text/plain": [
       "<Figure size 432x288 with 1 Axes>"
      ]
     },
     "metadata": {
      "needs_background": "light"
     },
     "output_type": "display_data"
    }
   ],
   "source": [
    "# Create a scatterplot using matplotlib for another look at how the chosen variables plot against each other.\n",
    "\n",
    "df.plot(x = 'carrier_delay_count', y='arrival_delay_minutes',style='o') \n",
    "plt.title('Carrier Delay Count vs Arrival Delay Minutes')  \n",
    "plt.xlabel('Carrier Delays')  \n",
    "plt.ylabel('Total Arrival Delay Minutes')  \n",
    "plt.show()"
   ]
  },
  {
   "cell_type": "code",
   "execution_count": 38,
   "id": "47a24161",
   "metadata": {},
   "outputs": [],
   "source": [
    "# Reshape the variables into NumPy arrays and put them into separate objects.\n",
    "\n",
    "X = df['carrier_delay_count'].values.reshape(-1,1)\n",
    "y = df['arrival_delay_minutes'].values.reshape(-1,1)"
   ]
  },
  {
   "cell_type": "code",
   "execution_count": 39,
   "id": "82754bcb",
   "metadata": {},
   "outputs": [
    {
     "data": {
      "text/plain": [
       "array([[2.51],\n",
       "       [5.02],\n",
       "       [2.63],\n",
       "       ...,\n",
       "       [1.79],\n",
       "       [0.  ],\n",
       "       [7.79]])"
      ]
     },
     "execution_count": 39,
     "metadata": {},
     "output_type": "execute_result"
    }
   ],
   "source": [
    "X"
   ]
  },
  {
   "cell_type": "code",
   "execution_count": 40,
   "id": "51f7d89b",
   "metadata": {},
   "outputs": [
    {
     "data": {
      "text/plain": [
       "array([[ 264],\n",
       "       [ 342],\n",
       "       [ 439],\n",
       "       ...,\n",
       "       [ 352],\n",
       "       [  47],\n",
       "       [1446]], dtype=int64)"
      ]
     },
     "execution_count": 40,
     "metadata": {},
     "output_type": "execute_result"
    }
   ],
   "source": [
    "y"
   ]
  },
  {
   "cell_type": "code",
   "execution_count": 41,
   "id": "47821c20",
   "metadata": {},
   "outputs": [],
   "source": [
    "# Split data into a training set and a test set.\n",
    "\n",
    "X_train, X_test, y_train, y_test = train_test_split(X, y, test_size=0.3, random_state=0)"
   ]
  },
  {
   "cell_type": "markdown",
   "id": "1dc7251d",
   "metadata": {},
   "source": [
    "## 4. Regression Analysis"
   ]
  },
  {
   "cell_type": "code",
   "execution_count": 42,
   "id": "8ea271e1",
   "metadata": {},
   "outputs": [],
   "source": [
    "# Create a regression object.\n",
    "\n",
    "regression = LinearRegression()"
   ]
  },
  {
   "cell_type": "code",
   "execution_count": 43,
   "id": "937c742f",
   "metadata": {},
   "outputs": [
    {
     "data": {
      "text/plain": [
       "LinearRegression()"
      ]
     },
     "execution_count": 43,
     "metadata": {},
     "output_type": "execute_result"
    }
   ],
   "source": [
    "# Fit the regression object onto the training set.\n",
    "\n",
    "regression.fit(X_train, y_train)"
   ]
  },
  {
   "cell_type": "code",
   "execution_count": 44,
   "id": "3b13efc6",
   "metadata": {},
   "outputs": [],
   "source": [
    "# Predict the values of y using X.\n",
    "\n",
    "y_predicted = regression.predict(X_test)"
   ]
  },
  {
   "cell_type": "code",
   "execution_count": 45,
   "id": "22d34d06",
   "metadata": {
    "scrolled": true
   },
   "outputs": [
    {
     "data": {
      "image/png": "[encoded data removed]",
      "text/plain": [
       "<Figure size 432x288 with 1 Axes>"
      ]
     },
     "metadata": {
      "needs_background": "light"
     },
     "output_type": "display_data"
    }
   ],
   "source": [
    "# Create a plot that shows the regression line from the model on the test set.\n",
    "\n",
    "plot_test = plt\n",
    "plot_test.scatter(X_test, y_test, color='gray', s = 15)\n",
    "plot_test.plot(X_test, y_predicted, color='red', linewidth =3)\n",
    "plot_test.title('Carrier Delay Count vs Arrival Delay Minutes (Test set)')\n",
    "plot_test.xlabel('Carrier Delays')\n",
    "plot_test.ylabel('Arrival Delay Minutes')\n",
    "plot_test.show()"
   ]
  },
  {
   "cell_type": "code",
   "execution_count": 46,
   "id": "843eae21",
   "metadata": {},
   "outputs": [],
   "source": [
    "# Create objects that contain the model summary statistics.\n",
    "\n",
    "rmse = mean_squared_error(y_test, y_predicted) \n",
    "r2 = r2_score(y_test, y_predicted) "
   ]
  },
  {
   "cell_type": "code",
   "execution_count": 47,
   "id": "5147be3b",
   "metadata": {},
   "outputs": [
    {
     "name": "stdout",
     "output_type": "stream",
     "text": [
      "Slope: [[190.75606968]]\n",
      "Mean squared error:  9547792.94750795\n",
      "R2 score:  0.831335163261822\n"
     ]
    }
   ],
   "source": [
    "# Print the model summary statistics. \n",
    "\n",
    "print('Slope:' ,regression.coef_)\n",
    "print('Mean squared error: ', rmse)\n",
    "print('R2 score: ', r2)"
   ]
  },
  {
   "cell_type": "code",
   "execution_count": 48,
   "id": "06836bbb",
   "metadata": {},
   "outputs": [
    {
     "data": {
      "text/html": [
       "<div>\n",
       "<style scoped>\n",
       "    .dataframe tbody tr th:only-of-type {\n",
       "        vertical-align: middle;\n",
       "    }\n",
       "\n",
       "    .dataframe tbody tr th {\n",
       "        vertical-align: top;\n",
       "    }\n",
       "\n",
       "    .dataframe thead th {\n",
       "        text-align: right;\n",
       "    }\n",
       "</style>\n",
       "<table border=\"1\" class=\"dataframe\">\n",
       "  <thead>\n",
       "    <tr style=\"text-align: right;\">\n",
       "      <th></th>\n",
       "      <th>Actual</th>\n",
       "      <th>Predicted</th>\n",
       "    </tr>\n",
       "  </thead>\n",
       "  <tbody>\n",
       "    <tr>\n",
       "      <th>0</th>\n",
       "      <td>357</td>\n",
       "      <td>952.137670</td>\n",
       "    </tr>\n",
       "    <tr>\n",
       "      <th>1</th>\n",
       "      <td>57</td>\n",
       "      <td>-283.961661</td>\n",
       "    </tr>\n",
       "    <tr>\n",
       "      <th>2</th>\n",
       "      <td>1123</td>\n",
       "      <td>562.995288</td>\n",
       "    </tr>\n",
       "    <tr>\n",
       "      <th>3</th>\n",
       "      <td>1958</td>\n",
       "      <td>4437.251064</td>\n",
       "    </tr>\n",
       "    <tr>\n",
       "      <th>4</th>\n",
       "      <td>371</td>\n",
       "      <td>288.306548</td>\n",
       "    </tr>\n",
       "    <tr>\n",
       "      <th>5</th>\n",
       "      <td>837</td>\n",
       "      <td>-11.180481</td>\n",
       "    </tr>\n",
       "    <tr>\n",
       "      <th>6</th>\n",
       "      <td>18362</td>\n",
       "      <td>32903.779342</td>\n",
       "    </tr>\n",
       "    <tr>\n",
       "      <th>7</th>\n",
       "      <td>122</td>\n",
       "      <td>-283.961661</td>\n",
       "    </tr>\n",
       "    <tr>\n",
       "      <th>8</th>\n",
       "      <td>718</td>\n",
       "      <td>1242.086896</td>\n",
       "    </tr>\n",
       "    <tr>\n",
       "      <th>9</th>\n",
       "      <td>0</td>\n",
       "      <td>-283.961661</td>\n",
       "    </tr>\n",
       "    <tr>\n",
       "      <th>10</th>\n",
       "      <td>2195</td>\n",
       "      <td>2670.849858</td>\n",
       "    </tr>\n",
       "    <tr>\n",
       "      <th>11</th>\n",
       "      <td>176</td>\n",
       "      <td>-93.205591</td>\n",
       "    </tr>\n",
       "    <tr>\n",
       "      <th>12</th>\n",
       "      <td>114</td>\n",
       "      <td>-198.121430</td>\n",
       "    </tr>\n",
       "    <tr>\n",
       "      <th>13</th>\n",
       "      <td>601</td>\n",
       "      <td>385.592143</td>\n",
       "    </tr>\n",
       "    <tr>\n",
       "      <th>14</th>\n",
       "      <td>0</td>\n",
       "      <td>-283.961661</td>\n",
       "    </tr>\n",
       "    <tr>\n",
       "      <th>15</th>\n",
       "      <td>457</td>\n",
       "      <td>105.180721</td>\n",
       "    </tr>\n",
       "    <tr>\n",
       "      <th>16</th>\n",
       "      <td>398</td>\n",
       "      <td>269.230941</td>\n",
       "    </tr>\n",
       "    <tr>\n",
       "      <th>17</th>\n",
       "      <td>217</td>\n",
       "      <td>-93.205591</td>\n",
       "    </tr>\n",
       "    <tr>\n",
       "      <th>18</th>\n",
       "      <td>562</td>\n",
       "      <td>818.608422</td>\n",
       "    </tr>\n",
       "    <tr>\n",
       "      <th>19</th>\n",
       "      <td>696</td>\n",
       "      <td>1762.850967</td>\n",
       "    </tr>\n",
       "    <tr>\n",
       "      <th>20</th>\n",
       "      <td>14458</td>\n",
       "      <td>17608.957675</td>\n",
       "    </tr>\n",
       "    <tr>\n",
       "      <th>21</th>\n",
       "      <td>65</td>\n",
       "      <td>97.550478</td>\n",
       "    </tr>\n",
       "    <tr>\n",
       "      <th>22</th>\n",
       "      <td>237</td>\n",
       "      <td>-93.205591</td>\n",
       "    </tr>\n",
       "    <tr>\n",
       "      <th>23</th>\n",
       "      <td>913</td>\n",
       "      <td>-156.155094</td>\n",
       "    </tr>\n",
       "    <tr>\n",
       "      <th>24</th>\n",
       "      <td>1180</td>\n",
       "      <td>-13.088042</td>\n",
       "    </tr>\n",
       "    <tr>\n",
       "      <th>25</th>\n",
       "      <td>2204</td>\n",
       "      <td>1245.902018</td>\n",
       "    </tr>\n",
       "    <tr>\n",
       "      <th>26</th>\n",
       "      <td>560</td>\n",
       "      <td>540.104560</td>\n",
       "    </tr>\n",
       "    <tr>\n",
       "      <th>27</th>\n",
       "      <td>1675</td>\n",
       "      <td>1177.229833</td>\n",
       "    </tr>\n",
       "    <tr>\n",
       "      <th>28</th>\n",
       "      <td>1623</td>\n",
       "      <td>2245.463823</td>\n",
       "    </tr>\n",
       "    <tr>\n",
       "      <th>29</th>\n",
       "      <td>249</td>\n",
       "      <td>381.777022</td>\n",
       "    </tr>\n",
       "  </tbody>\n",
       "</table>\n",
       "</div>"
      ],
      "text/plain": [
       "    Actual     Predicted\n",
       "0      357    952.137670\n",
       "1       57   -283.961661\n",
       "2     1123    562.995288\n",
       "3     1958   4437.251064\n",
       "4      371    288.306548\n",
       "5      837    -11.180481\n",
       "6    18362  32903.779342\n",
       "7      122   -283.961661\n",
       "8      718   1242.086896\n",
       "9        0   -283.961661\n",
       "10    2195   2670.849858\n",
       "11     176    -93.205591\n",
       "12     114   -198.121430\n",
       "13     601    385.592143\n",
       "14       0   -283.961661\n",
       "15     457    105.180721\n",
       "16     398    269.230941\n",
       "17     217    -93.205591\n",
       "18     562    818.608422\n",
       "19     696   1762.850967\n",
       "20   14458  17608.957675\n",
       "21      65     97.550478\n",
       "22     237    -93.205591\n",
       "23     913   -156.155094\n",
       "24    1180    -13.088042\n",
       "25    2204   1245.902018\n",
       "26     560    540.104560\n",
       "27    1675   1177.229833\n",
       "28    1623   2245.463823\n",
       "29     249    381.777022"
      ]
     },
     "execution_count": 48,
     "metadata": {},
     "output_type": "execute_result"
    }
   ],
   "source": [
    "data = pd.DataFrame({'Actual': y_test.flatten(), 'Predicted': y_predicted.flatten()})\n",
    "data.head(30)"
   ]
  }
 ],
 "metadata": {
  "kernelspec": {
   "display_name": "Python 3 (ipykernel)",
   "language": "python",
   "name": "python3"
  },
  "language_info": {
   "codemirror_mode": {
    "name": "ipython",
    "version": 3
   },
   "file_extension": ".py",
   "mimetype": "text/x-python",
   "name": "python",
   "nbconvert_exporter": "python",
   "pygments_lexer": "ipython3",
   "version": "3.9.12"
  }
 },
 "nbformat": 4,
 "nbformat_minor": 5
}
